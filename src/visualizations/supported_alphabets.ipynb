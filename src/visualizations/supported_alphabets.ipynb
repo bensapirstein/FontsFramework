{
 "cells": [
  {
   "cell_type": "code",
   "execution_count": null,
   "metadata": {},
   "outputs": [],
   "source": [
    "import sys\n",
    "sys.path.append('../')\n",
    "\n",
    "import json\n",
    "from get_fonts import get_fonts_info\n",
    "\n",
    "# Load the configuration file\n",
    "with open('../config.json') as config_file:\n",
    "    config = json.load(config_file)\n",
    "\n",
    "fonts_df = get_fonts_info(config['GOOGLE_FONTS_API_KEY'])"
   ]
  },
  {
   "cell_type": "code",
   "execution_count": null,
   "metadata": {},
   "outputs": [],
   "source": [
    "# Import necessary libraries\n",
    "from collections import Counter\n",
    "import matplotlib.pyplot as plt\n",
    "import seaborn as sns\n",
    "\n",
    "# Example for Exploration of the data\n",
    "# Create a Counter object to count the number of fonts that support each language\n",
    "counter = Counter()\n",
    "\n",
    "# Iterate over the \"subsets\" column of the dataframe and update the counter\n",
    "for subsets in fonts_df[\"subsets\"]:\n",
    "    counter.update(subsets)\n",
    "\n",
    "# Extract the language names and counts from the counter\n",
    "languages = list(counter.keys())\n",
    "counts = list(counter.values())\n",
    "\n",
    "# Sort the languages and counts by the counts in descending order\n",
    "languages = [language for _, language in sorted(zip(counts, languages), reverse=True)]\n",
    "counts = sorted(counts, reverse=True)\n",
    "\n",
    "# Filter the languages and counts to only include those with at least 20 fonts\n",
    "languages = [language for language, count in zip(languages, counts) if count >= 20]\n",
    "counts = [count for count in counts if count >= 20]\n",
    "\n",
    "# Set the size of the figure\n",
    "plt.figure(figsize=(16, 8))\n",
    "\n",
    "# Create a barplot showing the number of fonts that support each language\n",
    "sns.barplot(x=languages, y=counts, hue=languages, dodge=False)\n",
    "\n",
    "# Add a title and axes labels\n",
    "plt.title(\"Top languages by number of supported fonts\")\n",
    "plt.xlabel(\"Language\")\n",
    "plt.ylabel(\"Number of fonts\")\n",
    "\n",
    "# Show the legend\n",
    "plt.legend(title=\"Languages\", loc=\"upper right\")\n"
   ]
  }
 ],
 "metadata": {
  "kernelspec": {
   "display_name": "Python 3",
   "language": "python",
   "name": "python3"
  },
  "language_info": {
   "codemirror_mode": {
    "name": "ipython",
    "version": 3
   },
   "file_extension": ".py",
   "mimetype": "text/x-python",
   "name": "python",
   "nbconvert_exporter": "python",
   "pygments_lexer": "ipython3",
   "version": "3.9.6"
  },
  "orig_nbformat": 4,
  "vscode": {
   "interpreter": {
    "hash": "aee8b7b246df8f9039afb4144a1f6fd8d2ca17a180786b69acc140d282b71a49"
   }
  }
 },
 "nbformat": 4,
 "nbformat_minor": 2
}
