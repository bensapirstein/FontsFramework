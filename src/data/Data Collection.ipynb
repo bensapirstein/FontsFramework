{
 "cells": [
  {
   "cell_type": "code",
   "execution_count": null,
   "metadata": {},
   "outputs": [],
   "source": [
    "import json\n",
    "from data_collection import get_fonts_info\n",
    "\n",
    "# Load the configuration file\n",
    "with open('../../config/config.json') as config_file:\n",
    "    config = json.load(config_file)\n",
    "\n",
    "fonts_df = get_fonts_info(config['GOOGLE_FONTS_API_KEY'])"
   ]
  },
  {
   "cell_type": "code",
   "execution_count": null,
   "metadata": {},
   "outputs": [],
   "source": [
    "from data_collection import select_fonts, download_fonts\n",
    "import os\n",
    "\n",
    "fonts_path = \"../../data/raw/fonts/\"\n",
    "\n",
    "Download=True\n",
    "if Download:\n",
    "    fonts_to_download = select_fonts(fonts_df, subsets=['hebrew', 'arabic'])\n",
    "    fonts_to_download = download_fonts(fonts_to_download, os.path.join(fonts_path, \"GF\"))\n",
    "    if not os.path.exists(\"data.csv\"):\n",
    "        fonts_to_download.to_csv(\"data.csv\", index=False)\n",
    "    else:\n",
    "        fonts_to_download.to_csv(\"data.csv\", mode='a', index=False, header=False)\n"
   ]
  },
  {
   "cell_type": "code",
   "execution_count": null,
   "metadata": {},
   "outputs": [],
   "source": [
    "import pandas as pd\n",
    "\n",
    "def parse_list(string: str) -> list:\n",
    "    \"\"\"Convert a string representation of a list to a list.\"\"\"\n",
    "    return [s.strip(\"''\") for s in string.strip('[]').split(', ')]\n",
    "\n",
    "# Read the CSV file, using the parse_list function to parse the values in the \"subsets\" and \"file_path\" columns\n",
    "df = pd.read_csv(\"data.csv\", converters={\"subsets\": parse_list, \"file_path\": parse_list})\n",
    "\n",
    "# Drop irrelevant columns\n",
    "df = df.drop([\"variants\", \"version\", \"lastModified\", \"files\", \"kind\"], axis=1)"
   ]
  },
  {
   "cell_type": "code",
   "execution_count": null,
   "metadata": {},
   "outputs": [],
   "source": [
    "from tqdm import tqdm\n",
    "    \n",
    "# Iterate through the file paths in the 'file_path' column\n",
    "#TODO TEST FAILURE: df = df[df.family == \"Amiri Quran\"]\n",
    "for _, row in tqdm(df.iterrows()):\n",
    "    # Get the values in the \"file_path\" and \"family\" columns\n",
    "    file_path = row[\"file_path\"]\n",
    "    family = row[\"family\"]\n",
    "\n",
    "    print(family)\n",
    "    for ttf_file_path in file_path:\n",
    "        # Get the file name and extension of the TTF file\n",
    "        ttf_file_name, ttf_file_extension = os.path.splitext(ttf_file_path)\n",
    "        # Set the file path of the UFO file\n",
    "        family_folder = os.path.join(fonts_path, f\"UFO/{family}\")\n",
    "        \n",
    "        if not os.path.exists(family_folder):\n",
    "            os.makedirs(family_folder)\n",
    "\n",
    "        variant = ttf_file_name.split(\"-\")[-1]\n",
    "\n",
    "        ufo_file_path = os.path.join(family_folder, f\"{family}-{variant}.ufo\")\n",
    "\n",
    "        # Convert the TTF file to a UFO file\n",
    "        ttf_to_ufo(ttf_file_path, ufo_file_path)\n"
   ]
  }
 ],
 "metadata": {
  "kernelspec": {
   "display_name": "Python 3.9.6 64-bit",
   "language": "python",
   "name": "python3"
  },
  "language_info": {
   "codemirror_mode": {
    "name": "ipython",
    "version": 3
   },
   "file_extension": ".py",
   "mimetype": "text/x-python",
   "name": "python",
   "nbconvert_exporter": "python",
   "pygments_lexer": "ipython3",
   "version": "3.9.6"
  },
  "orig_nbformat": 4,
  "vscode": {
   "interpreter": {
    "hash": "aee8b7b246df8f9039afb4144a1f6fd8d2ca17a180786b69acc140d282b71a49"
   }
  }
 },
 "nbformat": 4,
 "nbformat_minor": 2
}
