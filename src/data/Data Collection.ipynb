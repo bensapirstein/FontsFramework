{
 "cells": [
  {
   "cell_type": "code",
   "execution_count": null,
   "metadata": {},
   "outputs": [],
   "source": [
    "import json\n",
    "from data_collection import get_fonts_info\n",
    "\n",
    "# Load the configuration file\n",
    "with open('../../config/config.json') as config_file:\n",
    "    config = json.load(config_file)\n",
    "\n",
    "fonts_df = get_fonts_info(config['GOOGLE_FONTS_API_KEY'])"
   ]
  },
  {
   "cell_type": "code",
   "execution_count": null,
   "metadata": {},
   "outputs": [],
   "source": [
    "from data_collection import select_fonts, download_fonts\n",
    "import os\n",
    "\n",
    "fonts_path = \"../../data/raw/fonts/\"\n",
    "data_file = \"download_data.csv\"\n",
    "Download=True\n",
    "if Download:\n",
    "    fonts_to_download = select_fonts(fonts_df, subsets=['hebrew', 'arabic'])\n",
    "    fonts_to_download = download_fonts(fonts_to_download, os.path.join(fonts_path, \"GF\"))\n",
    "    if not os.path.exists(data_file):\n",
    "        fonts_to_download.to_csv(data_file, index=False)\n",
    "    else:\n",
    "        fonts_to_download.to_csv(data_file, mode='a', index=False, header=False)\n"
   ]
  },
  {
   "cell_type": "code",
   "execution_count": null,
   "metadata": {},
   "outputs": [],
   "source": [
    "from tqdm import tqdm\n",
    "from data_collection import ttf_to_ufo, var_ttf_to_ufo\n",
    "import pandas as pd\n",
    "from data_utils import parse_list\n",
    "\n",
    "# Read the CSV file, using the parse_list function to parse the values in the \"subsets\" and \"file_path\" columns\n",
    "df = pd.read_csv(data_file, converters={\"subsets\": parse_list, \"file_path\": parse_list})\n",
    "\n",
    "# Create an empty dataframe to store the converted UFO file information\n",
    "ufo_df = pd.DataFrame(columns=['family', 'subsets', 'category', 'master', 'variants'])\n",
    "\n",
    "# Iterate through the file paths in the 'file_path' column\n",
    "# TODO: fix kerning error in cases: df = df[df.family == \"Amiri Quran\"] \n",
    "for index, row in tqdm(df.iterrows(), total=df.shape[0], desc=\"Converting to UFO...\"):\n",
    "    master = None\n",
    "    file_path = row[\"file_path\"]\n",
    "    family = row[\"family\"]\n",
    "    print(family)\n",
    "    # Set the file path of the UFO file\n",
    "    family_folder = os.path.join(fonts_path, f\"UFO/{family}\")\n",
    "    if not os.path.exists(family_folder):\n",
    "        os.makedirs(family_folder)\n",
    "\n",
    "    variants = {}\n",
    "    for ttf_file_path in file_path:\n",
    "        # Get the file name and extension of the TTF file\n",
    "        ttf_file_name, ttf_file_extension = os.path.splitext(ttf_file_path)\n",
    "\n",
    "        # Get the variant name from the TTF file name\n",
    "        variant = ttf_file_name.split(\"-\")[-1]\n",
    "\n",
    "        ufo_file_path = os.path.join(family_folder, f\"{family}-{variant}.ufo\")\n",
    "\n",
    "        # Convert the TTF file to a UFO file\n",
    "        if \"Variable\" in variant:\n",
    "            if not os.path.exists(ufo_file_path):\n",
    "                var_ttf_to_ufo(ttf_file_path, ufo_file_path)\n",
    "            master = ufo_file_path\n",
    "        else:\n",
    "            if not os.path.exists(ufo_file_path):\n",
    "                ttf_to_ufo(ttf_file_path, ufo_file_path)\n",
    "            variants[variant] = ufo_file_path\n",
    "\n",
    "    # Add the converted UFO file information to the dataframe\n",
    "    ufo_df = ufo_df.append({'family': family, 'subsets': row[\"subsets\"], 'category': row[\"category\"], 'master': master, 'variants': variants}, ignore_index=True)\n",
    "\n",
    "\n",
    "ufo_df.to_csv(\"ufo_data.csv\", index=False)"
   ]
  }
 ],
 "metadata": {
  "kernelspec": {
   "display_name": "Python 3",
   "language": "python",
   "name": "python3"
  },
  "language_info": {
   "codemirror_mode": {
    "name": "ipython",
    "version": 3
   },
   "file_extension": ".py",
   "mimetype": "text/x-python",
   "name": "python",
   "nbconvert_exporter": "python",
   "pygments_lexer": "ipython3",
   "version": "3.9.6"
  },
  "orig_nbformat": 4,
  "vscode": {
   "interpreter": {
    "hash": "caf03c62cf17b82b47c431ad6711a0b4877e39abaa30dbe0864cdb0718edfb61"
   }
  }
 },
 "nbformat": 4,
 "nbformat_minor": 2
}
