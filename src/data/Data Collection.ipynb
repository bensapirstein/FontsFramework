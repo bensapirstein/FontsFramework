{
 "cells": [
  {
   "cell_type": "code",
   "execution_count": null,
   "metadata": {},
   "outputs": [],
   "source": [
    "import json\n",
    "from data_collection import get_fonts_info\n",
    "\n",
    "# Load the configuration file\n",
    "with open('../../config/config.json') as config_file:\n",
    "    config = json.load(config_file)\n",
    "\n",
    "fonts_df = get_fonts_info(config['GOOGLE_FONTS_API_KEY'])\n",
    "fonts_path = \"../../data/raw/fonts/\"\n",
    "data_file = \"download_data.csv\""
   ]
  },
  {
   "cell_type": "code",
   "execution_count": null,
   "metadata": {},
   "outputs": [],
   "source": [
    "from data_collection import select_fonts, download_fonts\n",
    "import os\n",
    "\n",
    "alphabets = ['hebrew', 'arabic']\n",
    "fonts_to_download = select_fonts(fonts_df, subsets=alphabets)\n",
    "fonts_to_download = download_fonts(fonts_to_download, os.path.join(fonts_path, \"GF\"))\n",
    "if not os.path.exists(data_file):\n",
    "    fonts_to_download.to_csv(data_file, index=False)\n",
    "else:\n",
    "    fonts_to_download.to_csv(data_file, mode='a', index=False, header=False)\n"
   ]
  }
 ],
 "metadata": {
  "kernelspec": {
   "display_name": "Python 3",
   "language": "python",
   "name": "python3"
  },
  "language_info": {
   "codemirror_mode": {
    "name": "ipython",
    "version": 3
   },
   "file_extension": ".py",
   "mimetype": "text/x-python",
   "name": "python",
   "nbconvert_exporter": "python",
   "pygments_lexer": "ipython3",
   "version": "3.9.6 (default, Jun 29 2021, 05:25:02) \n[Clang 12.0.5 (clang-1205.0.22.9)]"
  },
  "orig_nbformat": 4,
  "vscode": {
   "interpreter": {
    "hash": "aee8b7b246df8f9039afb4144a1f6fd8d2ca17a180786b69acc140d282b71a49"
   }
  }
 },
 "nbformat": 4,
 "nbformat_minor": 2
}
