{
 "cells": [
  {
   "cell_type": "code",
   "execution_count": null,
   "metadata": {},
   "outputs": [],
   "source": [
    "import pandas as pd\n",
    "from data_utils import parse_list, ufo_to_ttf\n",
    "from data_generation import create_unified_font\n",
    "import ast\n",
    "df = pd.read_csv(\"ufo_data.csv\", converters={\"subsets\": parse_list, \"variants\":ast.literal_eval})\n",
    "\n"
   ]
  },
  {
   "cell_type": "code",
   "execution_count": null,
   "metadata": {},
   "outputs": [],
   "source": [
    "# Filter for rows where the 'subsets' column contains 'arabic' but not 'hebrew'\n",
    "ar_wo_heb = df[df.subsets.apply(lambda x: 'arabic' in x and 'hebrew' not in x)]\n",
    "\n",
    "# Filter for rows where the 'subsets' column contains 'hebrew' but not 'arabic'\n",
    "heb_wo_ar = df[df.subsets.apply(lambda x: 'hebrew' in x and 'arabic' not in x)]\n"
   ]
  },
  {
   "cell_type": "code",
   "execution_count": null,
   "metadata": {},
   "outputs": [],
   "source": [
    "# Choose a regular font from the 'heb_wo_ar' dataframe\n",
    "heb_font = heb_wo_ar[heb_wo_ar.master.isnull()].iloc[10]\n",
    "\n",
    "# Choose a regular font from the 'heb_wo_ar' dataframe\n",
    "ar_font = ar_wo_heb[ar_wo_heb.master.isnull()].iloc[20]"
   ]
  },
  {
   "cell_type": "code",
   "execution_count": null,
   "metadata": {},
   "outputs": [],
   "source": [
    "# Get the path to the UFO file for the chosen font\n",
    "hebrew_ufo_path = list(heb_font.variants.values())[0]\n",
    "\n",
    "# Get the path to the UFO file for the chosen font\n",
    "arabic_ufo_path = list(ar_font.variants.values())[0]"
   ]
  },
  {
   "cell_type": "code",
   "execution_count": null,
   "metadata": {},
   "outputs": [],
   "source": [
    "font_paths = [hebrew_ufo_path, arabic_ufo_path]\n",
    "unified_font = create_unified_font(font_paths)"
   ]
  },
  {
   "cell_type": "code",
   "execution_count": null,
   "metadata": {},
   "outputs": [],
   "source": [
    "out_dir = \"../../data/genarated\"\n",
    "if not os.path.exists(out_dir):\n",
    "        os.makedirs(out_path)\n",
    "unified_font.save(f\"{out_dir}/unified.ufo\")"
   ]
  },
  {
   "cell_type": "code",
   "execution_count": null,
   "metadata": {},
   "outputs": [],
   "source": [
    "ufo_to_ttf(f\"{out_dir}/unified.ufo\", f\"{out_dir}/unified.ttf\")"
   ]
  }
 ],
 "metadata": {
  "kernelspec": {
   "display_name": "Python 3",
   "language": "python",
   "name": "python3"
  },
  "language_info": {
   "codemirror_mode": {
    "name": "ipython",
    "version": 3
   },
   "file_extension": ".py",
   "mimetype": "text/x-python",
   "name": "python",
   "nbconvert_exporter": "python",
   "pygments_lexer": "ipython3",
   "version": "3.9.6"
  },
  "orig_nbformat": 4,
  "vscode": {
   "interpreter": {
    "hash": "aee8b7b246df8f9039afb4144a1f6fd8d2ca17a180786b69acc140d282b71a49"
   }
  }
 },
 "nbformat": 4,
 "nbformat_minor": 2
}
