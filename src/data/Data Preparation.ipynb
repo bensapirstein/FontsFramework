{
 "cells": [
  {
   "cell_type": "code",
   "execution_count": null,
   "metadata": {},
   "outputs": [],
   "source": [
    "import defcon\n",
    "import pandas as pd\n",
    "from data_utils import parse_list\n",
    "import ast\n",
    "\n",
    "df = pd.read_csv(\"ufo_data.csv\", converters={\"subsets\": parse_list, \"variants\":ast.literal_eval})\n",
    "\n",
    "# Initialize an empty list to store the glyph DataFrames\n",
    "glyph_dfs = []\n",
    "\n",
    "# Iterate through each font family and variant in the font_dataset DataFrame\n",
    "for _, row in df.iterrows():\n",
    "    family = row['family']\n",
    "    variant = row['variant']\n",
    "    ufo_file_path = row['ufo_file_path']\n",
    "\n",
    "    # Open the UFO file for the font\n",
    "    font = defcon.Font(ufo_file_path)\n",
    "\n",
    "    # Initialize an empty list to store the glyph data for the font\n",
    "    glyph_data = []\n",
    "\n",
    "    # Iterate through each glyph in the font\n",
    "    for glyph_name in font.keys():\n",
    "        # Get the glyph object for the glyph\n",
    "        glyph = font[glyph_name]\n",
    "\n",
    "        # Get the bezier curves, advance, and transformation matrix for the glyph\n",
    "        bezier_curves = glyph.components\n",
    "        advance = glyph.width\n",
    "        transform_matrix = glyph.transform\n",
    "\n",
    "        # Create a dictionary to store the glyph data\n",
    "        glyph_dict = {\n",
    "            'glyph_name': glyph_name,\n",
    "            'bezier_curves': bezier_curves,\n",
    "            'advance': advance,\n",
    "            'transform_matrix': transform_matrix\n",
    "        }\n",
    "\n",
    "        # Add the glyph data to the list\n",
    "        glyph_data.append(glyph_dict)\n",
    "\n",
    "    # Create a glyph DataFrame for the font\n",
    "    glyph_df = pd.DataFrame(glyph_data)\n",
    "\n",
    "    # Add the glyph DataFrame to the list of glyph DataFrames\n",
    "    glyph_dfs.append(glyph_df)\n",
    "\n",
    "# Concatenate the glyph DataFrames into a single DataFrame\n",
    "glyph_df_all = pd.concat(glyph_dfs)\n"
   ]
  }
 ],
 "metadata": {
  "kernelspec": {
   "display_name": "Python 3",
   "language": "python",
   "name": "python3"
  },
  "language_info": {
   "codemirror_mode": {
    "name": "ipython",
    "version": 3
   },
   "file_extension": ".py",
   "mimetype": "text/x-python",
   "name": "python",
   "nbconvert_exporter": "python",
   "pygments_lexer": "ipython3",
   "version": "3.9.6 (tags/v3.9.6:db3ff76, Jun 28 2021, 15:26:21) [MSC v.1929 64 bit (AMD64)]"
  },
  "orig_nbformat": 4,
  "vscode": {
   "interpreter": {
    "hash": "caf03c62cf17b82b47c431ad6711a0b4877e39abaa30dbe0864cdb0718edfb61"
   }
  }
 },
 "nbformat": 4,
 "nbformat_minor": 2
}
