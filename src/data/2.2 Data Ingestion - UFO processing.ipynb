{
 "cells": [
  {
   "cell_type": "code",
   "execution_count": null,
   "metadata": {},
   "outputs": [],
   "source": [
    "import defcon\n",
    "import pandas as pd\n",
    "from data_utils import parse_list\n",
    "import ast\n",
    "\n",
    "df = pd.read_csv(\"ufo_data.csv\", converters={\"subsets\": parse_list, \"variants\":ast.literal_eval})"
   ]
  },
  {
   "cell_type": "code",
   "execution_count": null,
   "metadata": {},
   "outputs": [],
   "source": [
    "# Initialize an empty list to store the glyph DataFrames\n",
    "glyph_dfs = []\n",
    "\n",
    "# Iterate through each font family and variant in the font_dataset DataFrame\n",
    "for _, row in df.iterrows():\n",
    "    family = row['family']\n",
    "    variants = row['variants']\n",
    "\n",
    "    for variant, ufo_file_path in variants.items():\n",
    "        # Open the UFO file for the font\n",
    "        font = defcon.Font(ufo_file_path)\n",
    "\n",
    "        # Initialize an empty list to store the glyph data for the font\n",
    "        glyph_data = []\n",
    "\n",
    "        # Iterate through each glyph in the font\n",
    "        for glyph_name in font.keys():\n",
    "            # Get the glyph object for the glyph\n",
    "            glyph = font[glyph_name]\n",
    "\n",
    "            # Get the bezier curves, advance, and transformation matrix for the glyph\n",
    "            components = glyph.components\n",
    "            advance = glyph.width\n",
    "\n",
    "            \n",
    "\n",
    "            # Create a dictionary to store the glyph data\n",
    "            glyph_dict = {\n",
    "                'glyph_name': glyph_name,\n",
    "                'components': components,\n",
    "                'advance': advance,\n",
    "                'transform_matrix': transform_matrix\n",
    "            }\n",
    "\n",
    "            # Add the glyph data to the list\n",
    "            glyph_data.append(glyph_dict)\n",
    "\n",
    "        # Create a glyph DataFrame for the font\n",
    "        glyph_df = pd.DataFrame(glyph_data)\n",
    "\n",
    "        # Add the glyph DataFrame to the list of glyph DataFrames\n",
    "        glyph_dfs.append(glyph_df)\n",
    "\n",
    "# Concatenate the glyph DataFrames into a single DataFrame\n",
    "glyph_df_all = pd.concat(glyph_dfs)\n"
   ]
  }
 ],
 "metadata": {
  "kernelspec": {
   "display_name": "Python 3",
   "language": "python",
   "name": "python3"
  },
  "language_info": {
   "codemirror_mode": {
    "name": "ipython",
    "version": 3
   },
   "file_extension": ".py",
   "mimetype": "text/x-python",
   "name": "python",
   "nbconvert_exporter": "python",
   "pygments_lexer": "ipython3",
   "version": "3.9.6"
  },
  "orig_nbformat": 4,
  "vscode": {
   "interpreter": {
    "hash": "aee8b7b246df8f9039afb4144a1f6fd8d2ca17a180786b69acc140d282b71a49"
   }
  }
 },
 "nbformat": 4,
 "nbformat_minor": 2
}
