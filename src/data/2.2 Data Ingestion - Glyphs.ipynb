{
 "cells": [
  {
   "cell_type": "code",
   "execution_count": null,
   "metadata": {},
   "outputs": [],
   "source": [
    "import ast\n",
    "import defcon\n",
    "import pandas as pd\n",
    "from tqdm import tqdm\n",
    "tqdm.pandas()\n",
    "\n",
    "from data_utils import parse_list, glyph_to_img,\\\n",
    "    glyph_stats, glyph_to_svg_path, normalize_glyph,\\\n",
    "    transform_svg, svg_format\n",
    "\n",
    "df = pd.read_csv(\"ufo_data.csv\", converters={\"subsets\": parse_list, \"variants\":ast.literal_eval})"
   ]
  },
  {
   "cell_type": "code",
   "execution_count": null,
   "metadata": {},
   "outputs": [],
   "source": [
    "# Initialize an empty list to store the glyph DataFrames\n",
    "glyph_dfs = []\n",
    "\n",
    "import os\n",
    "if not os.path.exists(\"glyphs\"):\n",
    "    os.mkdir(\"glyphs\")\n",
    "    \n",
    "# Iterate through each font family and variant in the font_dataset DataFrame\n",
    "#for _, row in tqdm(df[:10].iterrows(), total=df.shape[0], desc=\"Extracting Glyphs...\"):\n",
    "for _, row in tqdm(df[:2].iterrows(), total=2):\n",
    "    family = row['family']\n",
    "    variants = row['variants']\n",
    "\n",
    "    for variant, ufo_file_path in variants.items():\n",
    "        # Open the UFO file for the font\n",
    "        font = defcon.Font(ufo_file_path)\n",
    "\n",
    "        info = {\n",
    "            'ascender' : font.info.ascender,\n",
    "            'capHeight' : font.info.capHeight,\n",
    "            'descender' : font.info.descender,\n",
    "            'italicAngle' : font.info.italicAngle,\n",
    "            'xHeight' : font.info.xHeight,\n",
    "            'unitsPerEm' : font.info.unitsPerEm,\n",
    "        }\n",
    "\n",
    "        # Initialize an empty list to store the glyph data for the font\n",
    "        glyph_data = []\n",
    "\n",
    "        # Iterate through each glyph in the font\n",
    "        for glyph_name in font.keys():\n",
    "            # Get the glyph object for the glyph\n",
    "            glyph = font[glyph_name]\n",
    "\n",
    "            svg = glyph_to_svg_path(glyph)\n",
    "\n",
    "            meanX, meanY, stddevX, stddevY = glyph_stats(glyph)\n",
    "\n",
    "            #glyph_to_img(glyph, \"glyph.png\")\n",
    "\n",
    "            \n",
    "            # Create a dictionary to store the glyph data\n",
    "            glyph_dict = {\n",
    "                'family' : family,\n",
    "                'variant' : variant,\n",
    "                'glyph_name': glyph_name,\n",
    "                'svg': svg,\n",
    "                'advance': glyph.width,\n",
    "                'unicode' : glyph.unicode,\n",
    "                'meanX' : meanX,\n",
    "                'meanY' : meanY,\n",
    "                'stddevX' : stddevX,\n",
    "                'stddevY' : stddevY,\n",
    "                'area' : glyph.area,\n",
    "                'bounds' : glyph.bounds\n",
    "            }\n",
    "            # Add the glyph data to the list\n",
    "            glyph_data.append(glyph_dict)\n",
    "\n",
    "        # Create a glyph DataFrame for the font\n",
    "        glyph_df = pd.DataFrame(glyph_data)\n",
    "        # Add the glyph DataFrame to the list of glyph DataFrames\n",
    "        glyph_dfs.append(glyph_df)\n",
    "\n",
    "# Concatenate the glyph DataFrames into a single DataFrame\n",
    "glyphs_df = pd.concat(glyph_dfs)\n"
   ]
  },
  {
   "cell_type": "code",
   "execution_count": null,
   "metadata": {},
   "outputs": [],
   "source": [
    "glyphs_df = pd.concat(glyph_dfs)\n"
   ]
  },
  {
   "cell_type": "code",
   "execution_count": null,
   "metadata": {},
   "outputs": [],
   "source": [
    "# Normalize contours\n",
    "glyphs_df = glyphs_df.drop(glyphs_df[glyphs_df.stddevY == 0].index)\n",
    "tqdm.pandas(desc=\"Normalizing Svgs...\", postfix=None)\n",
    "glyphs_df[\"n_svg\"] = glyphs_df.progress_apply(normalize_glyph, axis=1)"
   ]
  },
  {
   "cell_type": "code",
   "execution_count": null,
   "metadata": {},
   "outputs": [],
   "source": [
    "# Sample Polygons\n"
   ]
  },
  {
   "cell_type": "code",
   "execution_count": null,
   "metadata": {},
   "outputs": [],
   "source": [
    "# Raster Images"
   ]
  },
  {
   "cell_type": "code",
   "execution_count": null,
   "metadata": {},
   "outputs": [],
   "source": [
    "glyphs_df.to_csv(\"glyphs_data.csv\", index=False)"
   ]
  },
  {
   "cell_type": "code",
   "execution_count": null,
   "metadata": {},
   "outputs": [],
   "source": [
    "from IPython.core.display import HTML\n",
    "s = glyphs_df.svg.iloc[100]\n",
    "s = transform_svg(s, 0, -1400, .1, -.1)\n",
    "display(HTML(svg_format % s))"
   ]
  }
 ],
 "metadata": {
  "kernelspec": {
   "display_name": "Python 3",
   "language": "python",
   "name": "python3"
  },
  "language_info": {
   "codemirror_mode": {
    "name": "ipython",
    "version": 3
   },
   "file_extension": ".py",
   "mimetype": "text/x-python",
   "name": "python",
   "nbconvert_exporter": "python",
   "pygments_lexer": "ipython3",
   "version": "3.9.6"
  },
  "orig_nbformat": 4,
  "vscode": {
   "interpreter": {
    "hash": "caf03c62cf17b82b47c431ad6711a0b4877e39abaa30dbe0864cdb0718edfb61"
   }
  }
 },
 "nbformat": 4,
 "nbformat_minor": 2
}
